{
  "nbformat": 4,
  "nbformat_minor": 0,
  "metadata": {
    "colab": {
      "provenance": []
    },
    "kernelspec": {
      "name": "python3",
      "display_name": "Python 3"
    },
    "language_info": {
      "name": "python"
    }
  },
  "cells": [
    {
      "cell_type": "markdown",
      "source": [
        "# Python Files, Exceptional Handling, Logging and Memory Management"
      ],
      "metadata": {
        "id": "7uwogP0M5GD1"
      }
    },
    {
      "cell_type": "markdown",
      "source": [
        "1.  What is the difference between interpreted and compiled languages?\n",
        "    - Interpreted languages execute code line by line, while compiled languages convert the entire code into machine code (or bytecode) before execution.\n",
        "\n",
        "2. What is exception handling in Python?\n",
        "   - Exception handling in Python is a mechanism used to handle errors or unexpected situations that occur during the execution of a program.\n",
        "\n",
        "3.  What is the purpose of the finally block in exception handling?\n",
        "    - The finally block in Python exception handling is used to define code that must run no matter what, whether an exception occurs or not.\n",
        "\n",
        "4. What is logging in Python?\n",
        "    - Logging in Python is the process of recording events, messages, or errors that happen when a program runs. It helps to track the flow of a program and diagnose problems, especially when something goes wrong.\n",
        "\n",
        "5. What is the significance of the __del__ method in Python?\n",
        "   - The __del__ method in Python is a special method (also called a destructor) that is called automatically when an object is about to be destroyed.\n",
        "\n",
        "6. What is the difference between import and from ... import in Python?\n",
        "   - `import` is used to import the entire module, whereas `from ... import` is used to import specific functions, classes, or variables from a module.\n",
        "\n",
        "7. How can you handle multiple exceptions in Python?\n",
        "   - We can catch different exception types with separate except blocks.\n",
        "      ```\n",
        "      try:\n",
        "          num = int(input(\"Enter a number: \"))\n",
        "          result = 10 / num\n",
        "      except ValueError:\n",
        "          print(\"Invalid input! Please enter a number.\")\n",
        "      except ZeroDivisionError:\n",
        "          print(\"Cannot divide by zero!\")\n",
        "      ```\n",
        "\n",
        "8. What is the purpose of the with statement when handling files in Python?\n",
        "   - The with statement in Python is used to simplify file handling by automatically taking care of opening and closing files, even if an error occurs during file operations.\n",
        "\n",
        "9. What is the difference between multithreading and multiprocessing?\n",
        "   - Both multithreading and multiprocessing are used to achieve concurrent execution, but they differ in how they work, how they use system resources, and what problems they are best suited for.\n",
        "\n",
        "10. What are the advantages of using logging in a program?\n",
        "    - Logging creates a permanent record of events and errors in the form of files that occur during program execution. This is useful for reviewing what happened after the program has run.\n",
        "\n",
        "11. What is memory management in Python?\n",
        "    - Memory management in Python refers to the process by which Python allocates, manages, and frees memory used by programs during their execution. Python handles memory automatically, so developers don't usually need to manually allocate or free memory like in lower-level languages such as C or C++.\n",
        "\n",
        "12. What are the basic steps involved in exception handling in Python?\n",
        "    - Exception handling in Python follows a structured approach to catch and manage errors that occur during program execution.\n",
        "      ```\n",
        "      try:\n",
        "          num = int(input(\"Enter a number: \"))\n",
        "          result = 10 / num\n",
        "      except ValueError:\n",
        "          print(\"Invalid input! Please enter a number.\")\n",
        "      except ZeroDivisionError:\n",
        "          print(\"Cannot divide by zero!\")\n",
        "      else:\n",
        "          print(\"Result is:\", result)\n",
        "      finally:\n",
        "          print(\"Execution finished.\")\n",
        "      ```\n",
        "\n",
        "13. Why is memory management important in Python?\n",
        "    - Memory management is crucial in Python (and any programming language) for several important reasons:\n",
        "      *   Efficient Use of Resources\n",
        "      *   Prevents Memory Leaks\n",
        "      *   Improves Program Performance\n",
        "\n",
        "14. What is the role of try and except in exception handling?\n",
        "    - The `try` block contains the code that might raise an exception. Python runs this code normally, but if an error occurs, it stops executing the rest of the `try` block and looks for an exception handler.\n",
        "    \n",
        "      The `except` block catches and handles specific exceptions raised in the try block. This prevents the program from crashing and allows you to respond gracefully.\n",
        "\n",
        "15. How does Python's garbage collection system work?\n",
        "    - Python automatically manages memory using a combination of reference counting and a cyclic garbage collector to reclaim unused memory.\n",
        "\n",
        "16. What is the purpose of the else block in exception handling?\n",
        "    - The `else` block in Python's exception handling is used to define code that should run only if no exceptions occur in the corresponding try block.\n",
        "\n",
        "17. What are the common logging levels in Python?\n",
        "    - There are five common logging levels in pthon\n",
        "      1.  DEBUG\n",
        "      2.  INFO\n",
        "      3.  WARNING\n",
        "      4.  ERROR\n",
        "      5.  CRITICAL\n",
        "\n",
        "18. What is the difference between os.fork() and multiprocessing in Python?\n",
        "    - `os.fork()` is a low-level Unix-only system call that duplicates the current process, while `multiprocessing` is a high-level, cross-platform Python module that simplifies creating and managing separate processes.\n",
        "\n",
        "19. What is the importance of closing a file in Python?\n",
        "    - Closing a file in Python is important to free system resources, ensure data is saved properly, and prevent data corruption or resource leaks.\n",
        "\n",
        "20. What is the difference between file.read() and file.readline() in Python?\n",
        "    - `file.read()` reads the entire file content at once, while `file.readline()` reads the file one line at a time.\n",
        "\n",
        "21.  What is the logging module in Python used for?\n",
        "      - The logging module in Python is used for tracking and recording events, errors, and informational messages during program execution to help with debugging and monitoring.\n",
        "\n",
        "22. What is the os module in Python used for in file handling?\n",
        "    - The `os` module in Python is used for interacting with the operating system, including file handling tasks like creating, deleting, renaming files and directories, and checking file properties.\n",
        "\n",
        "23. What are the challenges associated with memory management in Python?\n",
        "    - Challenges in Python memory management include handling circular references that the reference counting can’t clean up, preventing memory leaks from lingering references, and managing increased memory usage in long-running programs.\n",
        "\n",
        "24. How do you raise an exception manually in Python?\n",
        "    - You raise an exception manually in Python using the raise statement followed by an exception type or an exception instance.\n",
        "      ```\n",
        "      raise ValueError(\"This is a manual error\")\n",
        "      ```\n",
        "\n",
        "25. Why is it important to use multithreading in certain applications?\n",
        "    - Multithreading is important because it allows a program to perform multiple tasks simultaneously, improving responsiveness and efficiency—especially in I/O-bound applications like web servers or file handling where waiting times can be overlapped."
      ],
      "metadata": {
        "id": "A3laMrSm5XIT"
      }
    },
    {
      "cell_type": "markdown",
      "source": [
        "# Practical Questions"
      ],
      "metadata": {
        "id": "fgTQFY8g7105"
      }
    },
    {
      "cell_type": "code",
      "source": [
        "# Q-1.  How can you open a file for writing in Python and write a string to it?\n",
        "\n",
        "file = open(\"test_1.txt\", \"w\");\n",
        "file.write(\"This is line 1\\n\")\n",
        "file.write(\"This is line 2\\n\")\n",
        "file.write(\"This is line 3\\n\")\n",
        "file.close()"
      ],
      "metadata": {
        "id": "jMXFvIXq728g"
      },
      "execution_count": null,
      "outputs": []
    },
    {
      "cell_type": "code",
      "source": [
        "# Q-2. Write a Python program to read the contents of a file and print each line\n",
        "\n",
        "file = open(\"test_1.txt\", \"r\")\n",
        "for i in file:\n",
        "  print(i)\n"
      ],
      "metadata": {
        "id": "PkyzVrIR8WEE",
        "colab": {
          "base_uri": "https://localhost:8080/"
        },
        "outputId": "47be3f8f-8964-4287-a377-1997b2c7c7b5"
      },
      "execution_count": null,
      "outputs": [
        {
          "output_type": "stream",
          "name": "stdout",
          "text": [
            "This is line 1\n",
            "\n",
            "This is line 2\n",
            "\n",
            "This is line 3\n",
            "\n"
          ]
        }
      ]
    },
    {
      "cell_type": "code",
      "source": [
        "# Q-3.  How would you handle a case where the file doesn't exist while trying to open it for reading?\n",
        "\n",
        "import logging\n",
        "\n",
        "logging.basicConfig(filename = \"error.log\", level = logging.DEBUG, format = \"%(asctime)s %(message)s\")\n",
        "\n",
        "try:\n",
        "\n",
        "  file = open(\"test_2.txt\", \"r\")\n",
        "\n",
        "except FileNotFoundError:\n",
        "  logging.error(\"File not found\")\n",
        "\n"
      ],
      "metadata": {
        "id": "tkk5rJre8xOB",
        "colab": {
          "base_uri": "https://localhost:8080/"
        },
        "outputId": "58f9c1a1-79d8-4922-fd56-e6d40e86db88"
      },
      "execution_count": null,
      "outputs": [
        {
          "output_type": "stream",
          "name": "stderr",
          "text": [
            "ERROR:root:File not found\n"
          ]
        }
      ]
    },
    {
      "cell_type": "code",
      "source": [
        "# Q-4.  Write a Python script that reads from one file and writes its content to another file.\n",
        "\n",
        "try:\n",
        "\n",
        "  file_1 = open(\"test_1.txt\", \"r\")\n",
        "\n",
        "  with open(\"test_2.txt\", \"w\") as file_2:\n",
        "    for i in file_1:\n",
        "      file_2.write(i)\n",
        "\n",
        "  # Test the copied file content\n",
        "  file_2 = open(\"test_2.txt\", \"r\")\n",
        "  for i in file_2:\n",
        "    print(i)\n",
        "\n",
        "except FileNotFoundError:\n",
        "  print(\"File not found\")\n"
      ],
      "metadata": {
        "id": "_xoYMFMO9KLy",
        "colab": {
          "base_uri": "https://localhost:8080/"
        },
        "outputId": "7faeb161-7bad-48d9-dfae-ca7a2ce9d84a"
      },
      "execution_count": null,
      "outputs": [
        {
          "output_type": "stream",
          "name": "stdout",
          "text": [
            "This is line 1\n",
            "\n",
            "This is line 2\n",
            "\n",
            "This is line 3\n",
            "\n"
          ]
        }
      ]
    },
    {
      "cell_type": "code",
      "source": [
        "# Q-5.   How would you catch and handle division by zero error in Python?\n",
        "\n",
        "def division(a, b):\n",
        "  return a / b\n",
        "\n",
        "for i in range(-5, 5):\n",
        "  try:\n",
        "    result = division(i, i + 1)\n",
        "    print(result)\n",
        "  except ZeroDivisionError:\n",
        "    print(\"Zero division error!\")"
      ],
      "metadata": {
        "id": "5Zl-Lmrg-OU4",
        "colab": {
          "base_uri": "https://localhost:8080/"
        },
        "outputId": "dc81bb39-db74-4b33-fd26-f9a8ce0537e1"
      },
      "execution_count": null,
      "outputs": [
        {
          "output_type": "stream",
          "name": "stdout",
          "text": [
            "1.25\n",
            "1.3333333333333333\n",
            "1.5\n",
            "2.0\n",
            "Zero division error!\n",
            "0.0\n",
            "0.5\n",
            "0.6666666666666666\n",
            "0.75\n",
            "0.8\n"
          ]
        }
      ]
    },
    {
      "cell_type": "code",
      "source": [
        "# Q-6.  Write a Python program that logs an error message to a log file when a division by zero exception occursF\n",
        "\n",
        "import logging\n",
        "\n",
        "logging.basicConfig(filename = \"error.log\", level = logging.DEBUG)\n",
        "\n",
        "def division(a, b):\n",
        "  return a / b\n",
        "\n",
        "for i in range(-5, 5):\n",
        "  try:\n",
        "    result = division(i, i + 1)\n",
        "    print(result)\n",
        "  except ZeroDivisionError:\n",
        "    logging.error(\"Zero division error!\")\n"
      ],
      "metadata": {
        "id": "Oe2QqHk6_SyN",
        "colab": {
          "base_uri": "https://localhost:8080/"
        },
        "outputId": "045fe20a-650a-48f2-a4a0-3f859431b95c"
      },
      "execution_count": null,
      "outputs": [
        {
          "output_type": "stream",
          "name": "stderr",
          "text": [
            "ERROR:root:Zero division error!\n"
          ]
        },
        {
          "output_type": "stream",
          "name": "stdout",
          "text": [
            "1.25\n",
            "1.3333333333333333\n",
            "1.5\n",
            "2.0\n",
            "0.0\n",
            "0.5\n",
            "0.6666666666666666\n",
            "0.75\n",
            "0.8\n"
          ]
        }
      ]
    },
    {
      "cell_type": "code",
      "source": [
        "# Q-7. How do you log information at different levels (INFO, ERROR, WARNING) in Python using the logging module?\n",
        "\n",
        "import logging\n",
        "\n",
        "logging.basicConfig(filename = \"error.log\", level = logging.DEBUG, format = \"%(asctime)s %(level)s %(message)s\")\n",
        "\n",
        "logging.debug(\"This is debugging message\")\n",
        "logging.warning(\"This is warning message\")\n",
        "logging.info(\"This is information message\")\n",
        "logging.error(\"This is error message\")\n",
        "logging.critical(\"This is critical error message\")\n"
      ],
      "metadata": {
        "id": "qm1wxvQC_Xg1",
        "colab": {
          "base_uri": "https://localhost:8080/"
        },
        "outputId": "64792b6d-cbf5-40aa-a75c-5ce718931bab"
      },
      "execution_count": null,
      "outputs": [
        {
          "output_type": "stream",
          "name": "stderr",
          "text": [
            "WARNING:root:This is warning message\n",
            "ERROR:root:This is error message\n",
            "CRITICAL:root:This is critical error message\n"
          ]
        }
      ]
    },
    {
      "cell_type": "code",
      "source": [
        "# Q-8. Write a program to handle a file opening error using exception handling.\n",
        "\n",
        "try:\n",
        "\n",
        "  file = open(\"test_3.txt\", \"r\")\n",
        "\n",
        "except FileNotFoundError:\n",
        "  logging.error(\"File not found\")\n"
      ],
      "metadata": {
        "id": "IjV2UwV0_o2t",
        "colab": {
          "base_uri": "https://localhost:8080/"
        },
        "outputId": "d5a372e9-d302-48a3-ef2a-38bffcb8d808"
      },
      "execution_count": null,
      "outputs": [
        {
          "output_type": "stream",
          "name": "stderr",
          "text": [
            "ERROR:root:File not found\n"
          ]
        }
      ]
    },
    {
      "cell_type": "code",
      "source": [
        "# Q-9. How can you read a file line by line and store its content in a list in Python?\n",
        "\n",
        "with open(\"test_3.txt\", \"w\") as file:\n",
        "  file.write(\"Line 1\\n\")\n",
        "  file.write(\"Line 2\\n\")\n",
        "  file.write(\"Line 3\\n\")\n",
        "  file.write(\"Line 4\\n\")\n",
        "  file.write(\"Line 5\\n\")\n",
        "\n",
        "file_data = []\n",
        "file = open(\"test_3.txt\", \"r\")\n",
        "for i in file:\n",
        "  file_data.append(i)\n",
        "\n",
        "file_data\n",
        "\n",
        "\n"
      ],
      "metadata": {
        "id": "wg8AEWrXD46X",
        "colab": {
          "base_uri": "https://localhost:8080/"
        },
        "outputId": "6f99d3dc-189f-464c-9ed8-1593ca382e54"
      },
      "execution_count": null,
      "outputs": [
        {
          "output_type": "execute_result",
          "data": {
            "text/plain": [
              "['Line 1\\n', 'Line 2\\n', 'Line 3\\n', 'Line 4\\n', 'Line 5\\n']"
            ]
          },
          "metadata": {},
          "execution_count": 1
        }
      ]
    },
    {
      "cell_type": "code",
      "source": [
        "# Q-10. How can you append data to an existing file in Python?\n",
        "\n",
        "with open(\"test_4.txt\", \"w\") as file:\n",
        "  file.write(\"Line 1\\n\")\n",
        "  file.write(\"Line 2\\n\")\n",
        "  file.write(\"Line 3\\n\")\n",
        "  file.write(\"Line 4\\n\")\n",
        "  file.write(\"Line 5\\n\")\n",
        "\n",
        "file = open(\"test_4.txt\", \"a\")\n",
        "file.write(\"Line 6\\n\")\n",
        "file.write(\"Line 7\\n\")\n",
        "file.close()\n",
        "\n",
        "file = open(\"test_4.txt\", \"r\")\n",
        "\n",
        "for i in file:\n",
        "  print(i)\n"
      ],
      "metadata": {
        "id": "FvG3CsPMEY30",
        "colab": {
          "base_uri": "https://localhost:8080/"
        },
        "outputId": "3ca6917d-5fab-48ec-9988-c975db16f3d0"
      },
      "execution_count": null,
      "outputs": [
        {
          "output_type": "stream",
          "name": "stdout",
          "text": [
            "Line 1\n",
            "\n",
            "Line 2\n",
            "\n",
            "Line 3\n",
            "\n",
            "Line 4\n",
            "\n",
            "Line 5\n",
            "\n",
            "Line 6\n",
            "\n",
            "Line 7\n",
            "\n"
          ]
        }
      ]
    },
    {
      "cell_type": "code",
      "source": [
        "# Q-11. Write a Python program that uses a try-except block to handle an error when attempting to access a dictionary key that doesn't exist.\n",
        "\n",
        "try:\n",
        "\n",
        "  dic_1 = {\"name\": \"Devendra\", \"age\": 32}\n",
        "  print(dic_1[\"address\"])\n",
        "\n",
        "except KeyError as ke:\n",
        "\n",
        "  print(f\"Key {ke} not found\")"
      ],
      "metadata": {
        "id": "DP_O3FavEeGf",
        "colab": {
          "base_uri": "https://localhost:8080/"
        },
        "outputId": "79ad8a5f-c8e2-429e-cdad-e971b7314c94"
      },
      "execution_count": null,
      "outputs": [
        {
          "output_type": "stream",
          "name": "stdout",
          "text": [
            "Key 'address' not found\n"
          ]
        }
      ]
    },
    {
      "cell_type": "code",
      "source": [
        "# Q-12. Write a program that demonstrates using multiple except blocks to handle different types of exceptions.\n",
        "\n",
        "try:\n",
        "\n",
        "#  dic_1 = {\"name\": \"Devendra\", \"age\": 32}\n",
        "#  print(dic_1[\"address\"])\n",
        "\n",
        "#  division = 5 / 0\n",
        "\n",
        "  list = [2, 4, 6]\n",
        "  list[3]\n",
        "\n",
        "except KeyError as ke:\n",
        "  print(f\"Key {ke} not found\")\n",
        "\n",
        "except ZeroDivisionError as zde:\n",
        "  print(f\"Division by 0 is not possible\")\n",
        "\n",
        "except IndexError as ie:\n",
        "  print(f\"{ie}\")\n",
        "\n",
        "except Exception as ex:\n",
        "  print(\"Something went wrong!\")\n"
      ],
      "metadata": {
        "id": "TLhpSRgOGHik",
        "colab": {
          "base_uri": "https://localhost:8080/"
        },
        "outputId": "f2abf397-a0f4-423b-fc44-55900e598a98"
      },
      "execution_count": null,
      "outputs": [
        {
          "output_type": "stream",
          "name": "stdout",
          "text": [
            "list index out of range\n"
          ]
        }
      ]
    },
    {
      "cell_type": "code",
      "source": [
        "# Q-13. How would you check if a file exists before attempting to read it in Python?\n",
        "\n",
        "import os\n",
        "\n",
        "file_path = \"test_4.txt\"\n",
        "\n",
        "if os.path.exists(file_path):\n",
        "    with open(file_path, \"r\") as f:\n",
        "        content = f.read()\n",
        "        print(content)\n",
        "else:\n",
        "    print(\"File does not exist.\")\n",
        "\n"
      ],
      "metadata": {
        "id": "WPf8fH3HlleL",
        "colab": {
          "base_uri": "https://localhost:8080/"
        },
        "outputId": "68f13a5d-acfe-47e4-fc9a-888354e1a685"
      },
      "execution_count": null,
      "outputs": [
        {
          "output_type": "stream",
          "name": "stdout",
          "text": [
            "Line 1\n",
            "Line 2\n",
            "Line 3\n",
            "Line 4\n",
            "Line 5\n",
            "Line 6\n",
            "Line 7\n",
            "\n"
          ]
        }
      ]
    },
    {
      "cell_type": "code",
      "source": [
        "# Q-14. Write a program that uses the logging module to log both informational and error messages.\n",
        "\n",
        "import logging\n",
        "\n",
        "logging.basicConfig(level = logging.DEBUG, format=\"%(asctime)s - %(levelname)s - %(message)s\", filename=\"app.log\", filemode=\"a\")\n",
        "\n",
        "try:\n",
        "    result = 5 / 2\n",
        "    logging.info(f\"Division successful: {5} / {0} = {result}\")\n",
        "\n",
        "except ZeroDivisionError:\n",
        "    logging.error(\"Attempted to divide by zero.\")\n"
      ],
      "metadata": {
        "id": "tCEw-Fejlrir"
      },
      "execution_count": null,
      "outputs": []
    },
    {
      "cell_type": "code",
      "source": [
        "# Q-15. Write a Python program that prints the content of a file and handles the case when the file is empty.\n",
        "\n",
        "file = open(\"empty.txt\", \"w\")\n",
        "file.close()\n",
        "\n",
        "with open(\"empty.txt\", \"r\") as file:\n",
        "  content = file.read()\n",
        "  if content == \"\":\n",
        "    print(\"File is empty\")\n",
        "  else:\n",
        "    print(content)"
      ],
      "metadata": {
        "id": "hWjyLQYvlwiG",
        "colab": {
          "base_uri": "https://localhost:8080/"
        },
        "outputId": "68ee0da6-12dd-4e5d-9877-f6e27e1f218b"
      },
      "execution_count": null,
      "outputs": [
        {
          "output_type": "stream",
          "name": "stdout",
          "text": [
            "File is empty\n"
          ]
        }
      ]
    },
    {
      "cell_type": "code",
      "source": [
        "# Q-16. Demonstrate how to use memory profiling to check the memory usage of a small program.\n",
        "\n"
      ],
      "metadata": {
        "id": "FIMuX_hQl6f7"
      },
      "execution_count": null,
      "outputs": []
    },
    {
      "cell_type": "code",
      "source": [
        "# Q-17. Write a Python program to create and write a list of numbers to a file, one number per line.\n",
        "\n",
        "list = [\"Line 1\", \"Line 2\", \"Hello World!\", 25]\n",
        "\n",
        "file = open(\"list_file.txt\", \"w\")\n",
        "for i in list:\n",
        "  file.write(f\"{i} \\n\")\n",
        "file.close()\n",
        "\n",
        "with open(\"list_file.txt\") as file:\n",
        "  content = file.read()\n",
        "  print(content)\n"
      ],
      "metadata": {
        "id": "QO9aml-LmAPu",
        "colab": {
          "base_uri": "https://localhost:8080/"
        },
        "outputId": "5ee3f827-c673-4120-eea9-f52ca3863e16"
      },
      "execution_count": null,
      "outputs": [
        {
          "output_type": "stream",
          "name": "stdout",
          "text": [
            "Line 1 \n",
            "Line 2 \n",
            "Hello World! \n",
            "25 \n",
            "\n"
          ]
        }
      ]
    },
    {
      "cell_type": "code",
      "source": [
        "# Q-18. How would you implement a basic logging setup that logs to a file with rotation after 1MB?\n"
      ],
      "metadata": {
        "id": "zs6XsIK6mH4e"
      },
      "execution_count": null,
      "outputs": []
    },
    {
      "cell_type": "code",
      "source": [
        "# Q-19. Write a program that handles both IndexError and KeyError using a try-except block.\n",
        "\n",
        "try:\n",
        "\n",
        "  dic_1 = {\"name\": \"Devendra\", \"age\": 32}\n",
        "  print(dic_1[\"address\"])\n",
        "\n",
        "#  list = [2, 4, 6]\n",
        "#  list[3]\n",
        "\n",
        "except KeyError as ke:\n",
        "  print(f\"Key {ke} not found\")\n",
        "\n",
        "except IndexError as ie:\n",
        "  print(f\"{ie}\")\n",
        "\n",
        "except Exception as ex:\n",
        "  print(\"Something went wrong!\")"
      ],
      "metadata": {
        "id": "BzJbkxD4rQsv",
        "colab": {
          "base_uri": "https://localhost:8080/"
        },
        "outputId": "252ca647-809e-4558-86ac-c8ae1876ec83"
      },
      "execution_count": null,
      "outputs": [
        {
          "output_type": "stream",
          "name": "stdout",
          "text": [
            "Key 'address' not found\n"
          ]
        }
      ]
    },
    {
      "cell_type": "code",
      "source": [
        "# Q-20.  How would you open a file and read its contents using a context manager in Python?\n",
        "\n",
        "with open(\"test_4.txt\", \"r\") as f:\n",
        "    content = f.read()\n",
        "    print(content)"
      ],
      "metadata": {
        "colab": {
          "base_uri": "https://localhost:8080/"
        },
        "id": "BZXTz-LFWMq9",
        "outputId": "ea1e0588-0a1f-4682-9b1b-5b528893559d"
      },
      "execution_count": null,
      "outputs": [
        {
          "output_type": "stream",
          "name": "stdout",
          "text": [
            "Line 1\n",
            "Line 2\n",
            "Line 3\n",
            "Line 4\n",
            "Line 5\n",
            "Line 6\n",
            "Line 7\n",
            "\n"
          ]
        }
      ]
    },
    {
      "cell_type": "code",
      "source": [
        "# Q-21. Write a Python program that reads a file and prints the number of occurrences of a specific word.\n",
        "\n",
        "try:\n",
        "    word_to_count = \"Line\"\n",
        "    file_path = \"test_4.txt\"\n",
        "\n",
        "    with open(file_path, \"r\") as f:\n",
        "        content = f.read()\n",
        "\n",
        "    count = content.split().count(word_to_count)\n",
        "    print(f\"The word '{word_to_count}' occurs {count} times in '{file_path}'.\")\n",
        "\n",
        "except FileNotFoundError:\n",
        "    print(f\"Error: The file '{file_path}' does not exist.\")\n"
      ],
      "metadata": {
        "colab": {
          "base_uri": "https://localhost:8080/"
        },
        "id": "Uzz9XqTMWgOp",
        "outputId": "28c89a9a-7e55-4b31-8f25-3b88bc7b21f7"
      },
      "execution_count": null,
      "outputs": [
        {
          "output_type": "stream",
          "name": "stdout",
          "text": [
            "The word 'Line' occurs 7 times in 'test_4.txt'.\n"
          ]
        }
      ]
    },
    {
      "cell_type": "code",
      "source": [
        "# Q-22. How can you check if a file is empty before attempting to read its contents?\n",
        "\n",
        "import os\n",
        "\n",
        "file_path = \"empty.txt\"\n",
        "\n",
        "if not os.path.exists(file_path):\n",
        "  print(\"File does not exist.\")\n",
        "elif os.path.getsize(file_path) == 0:\n",
        "    print(\"The file is empty.\")\n",
        "else:\n",
        "    with open(file_path, \"r\") as f:\n",
        "        content = f.read()\n",
        "        print(content)\n"
      ],
      "metadata": {
        "colab": {
          "base_uri": "https://localhost:8080/"
        },
        "id": "xTWdVyndXAI7",
        "outputId": "fa587aae-25a9-4966-e899-26821175c783"
      },
      "execution_count": null,
      "outputs": [
        {
          "output_type": "stream",
          "name": "stdout",
          "text": [
            "The file is empty.\n"
          ]
        }
      ]
    },
    {
      "cell_type": "code",
      "source": [
        "# Q-23. Write a Python program that writes to a log file when an error occurs during file handling.\n",
        "\n",
        "import logging\n",
        "\n",
        "logging.basicConfig(level = logging.DEBUG, format=\"%(asctime)s - %(levelname)s - %(message)s\", filename=\"app.log\", filemode=\"a\")\n",
        "\n",
        "try:\n",
        "    file_path = \"test_5.txt\"\n",
        "    with open(file_path, \"r\") as f:\n",
        "        content = f.read()\n",
        "        print(content)\n",
        "except FileNotFoundError as e:\n",
        "    print(f\"Error: {e}\")\n",
        "    logging.error(f\"File not found: {file_path}\")\n",
        "except PermissionError as e:\n",
        "    print(f\"Error: {e}\")\n",
        "    logging.error(f\"Permission denied: {file_path}\")\n",
        "except Exception as e:\n",
        "    print(f\"Unexpected error: {e}\")\n",
        "    logging.error(f\"Unexpected error with file '{file_path}': {e}\")\n"
      ],
      "metadata": {
        "colab": {
          "base_uri": "https://localhost:8080/"
        },
        "id": "Cn8n72HkYrSd",
        "outputId": "092dc83f-d71b-432c-f40a-8b70d75a3c74"
      },
      "execution_count": null,
      "outputs": [
        {
          "output_type": "stream",
          "name": "stderr",
          "text": [
            "ERROR:root:File not found: test_5.txt\n"
          ]
        },
        {
          "output_type": "stream",
          "name": "stdout",
          "text": [
            "Error: [Errno 2] No such file or directory: 'test_5.txt'\n"
          ]
        }
      ]
    },
    {
      "cell_type": "code",
      "source": [],
      "metadata": {
        "id": "bWtEHRQQZUnb"
      },
      "execution_count": null,
      "outputs": []
    }
  ]
}